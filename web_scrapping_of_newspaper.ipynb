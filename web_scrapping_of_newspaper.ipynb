{
  "nbformat": 4,
  "nbformat_minor": 0,
  "metadata": {
    "colab": {
      "name": "web_scrapping_of_newspaper.ipynb",
      "provenance": [],
      "authorship_tag": "ABX9TyOCazU3uHZdrsYT0ITomytx",
      "include_colab_link": true
    },
    "kernelspec": {
      "name": "python3",
      "display_name": "Python 3"
    },
    "language_info": {
      "name": "python"
    }
  },
  "cells": [
    {
      "cell_type": "markdown",
      "metadata": {
        "id": "view-in-github",
        "colab_type": "text"
      },
      "source": [
        "<a href=\"https://colab.research.google.com/github/goswamimohit/webscrapping/blob/main/web_scrapping_of_newspaper.ipynb\" target=\"_parent\"><img src=\"https://colab.research.google.com/assets/colab-badge.svg\" alt=\"Open In Colab\"/></a>"
      ]
    },
    {
      "cell_type": "code",
      "source": [
        "pip install newspaper3k"
      ],
      "metadata": {
        "colab": {
          "base_uri": "https://localhost:8080/"
        },
        "id": "BiC1YTdhyfq2",
        "outputId": "cf423c92-d095-4d25-b5cf-d4b0e7252f0b"
      },
      "execution_count": 2,
      "outputs": [
        {
          "output_type": "stream",
          "name": "stdout",
          "text": [
            "Collecting newspaper3k\n",
            "  Downloading newspaper3k-0.2.8-py3-none-any.whl (211 kB)\n",
            "\u001b[?25l\r\u001b[K     |█▌                              | 10 kB 17.3 MB/s eta 0:00:01\r\u001b[K     |███                             | 20 kB 21.5 MB/s eta 0:00:01\r\u001b[K     |████▋                           | 30 kB 18.5 MB/s eta 0:00:01\r\u001b[K     |██████▏                         | 40 kB 12.3 MB/s eta 0:00:01\r\u001b[K     |███████▊                        | 51 kB 8.9 MB/s eta 0:00:01\r\u001b[K     |█████████▎                      | 61 kB 9.4 MB/s eta 0:00:01\r\u001b[K     |██████████▉                     | 71 kB 7.5 MB/s eta 0:00:01\r\u001b[K     |████████████▍                   | 81 kB 8.4 MB/s eta 0:00:01\r\u001b[K     |██████████████                  | 92 kB 7.4 MB/s eta 0:00:01\r\u001b[K     |███████████████▌                | 102 kB 8.0 MB/s eta 0:00:01\r\u001b[K     |█████████████████               | 112 kB 8.0 MB/s eta 0:00:01\r\u001b[K     |██████████████████▋             | 122 kB 8.0 MB/s eta 0:00:01\r\u001b[K     |████████████████████▏           | 133 kB 8.0 MB/s eta 0:00:01\r\u001b[K     |█████████████████████▊          | 143 kB 8.0 MB/s eta 0:00:01\r\u001b[K     |███████████████████████▎        | 153 kB 8.0 MB/s eta 0:00:01\r\u001b[K     |████████████████████████▉       | 163 kB 8.0 MB/s eta 0:00:01\r\u001b[K     |██████████████████████████▍     | 174 kB 8.0 MB/s eta 0:00:01\r\u001b[K     |████████████████████████████    | 184 kB 8.0 MB/s eta 0:00:01\r\u001b[K     |█████████████████████████████▌  | 194 kB 8.0 MB/s eta 0:00:01\r\u001b[K     |███████████████████████████████ | 204 kB 8.0 MB/s eta 0:00:01\r\u001b[K     |████████████████████████████████| 211 kB 8.0 MB/s \n",
            "\u001b[?25hRequirement already satisfied: python-dateutil>=2.5.3 in /usr/local/lib/python3.7/dist-packages (from newspaper3k) (2.8.2)\n",
            "Requirement already satisfied: requests>=2.10.0 in /usr/local/lib/python3.7/dist-packages (from newspaper3k) (2.23.0)\n",
            "Collecting tinysegmenter==0.3\n",
            "  Downloading tinysegmenter-0.3.tar.gz (16 kB)\n",
            "Collecting cssselect>=0.9.2\n",
            "  Downloading cssselect-1.1.0-py2.py3-none-any.whl (16 kB)\n",
            "Collecting tldextract>=2.0.1\n",
            "  Downloading tldextract-3.1.2-py2.py3-none-any.whl (87 kB)\n",
            "\u001b[K     |████████████████████████████████| 87 kB 5.6 MB/s \n",
            "\u001b[?25hCollecting jieba3k>=0.35.1\n",
            "  Downloading jieba3k-0.35.1.zip (7.4 MB)\n",
            "\u001b[K     |████████████████████████████████| 7.4 MB 32.9 MB/s \n",
            "\u001b[?25hRequirement already satisfied: Pillow>=3.3.0 in /usr/local/lib/python3.7/dist-packages (from newspaper3k) (7.1.2)\n",
            "Requirement already satisfied: lxml>=3.6.0 in /usr/local/lib/python3.7/dist-packages (from newspaper3k) (4.2.6)\n",
            "Requirement already satisfied: beautifulsoup4>=4.4.1 in /usr/local/lib/python3.7/dist-packages (from newspaper3k) (4.6.3)\n",
            "Requirement already satisfied: PyYAML>=3.11 in /usr/local/lib/python3.7/dist-packages (from newspaper3k) (3.13)\n",
            "Collecting feedparser>=5.2.1\n",
            "  Downloading feedparser-6.0.8-py3-none-any.whl (81 kB)\n",
            "\u001b[K     |████████████████████████████████| 81 kB 8.6 MB/s \n",
            "\u001b[?25hRequirement already satisfied: nltk>=3.2.1 in /usr/local/lib/python3.7/dist-packages (from newspaper3k) (3.2.5)\n",
            "Collecting feedfinder2>=0.0.4\n",
            "  Downloading feedfinder2-0.0.4.tar.gz (3.3 kB)\n",
            "Requirement already satisfied: six in /usr/local/lib/python3.7/dist-packages (from feedfinder2>=0.0.4->newspaper3k) (1.15.0)\n",
            "Collecting sgmllib3k\n",
            "  Downloading sgmllib3k-1.0.0.tar.gz (5.8 kB)\n",
            "Requirement already satisfied: urllib3!=1.25.0,!=1.25.1,<1.26,>=1.21.1 in /usr/local/lib/python3.7/dist-packages (from requests>=2.10.0->newspaper3k) (1.24.3)\n",
            "Requirement already satisfied: certifi>=2017.4.17 in /usr/local/lib/python3.7/dist-packages (from requests>=2.10.0->newspaper3k) (2021.10.8)\n",
            "Requirement already satisfied: chardet<4,>=3.0.2 in /usr/local/lib/python3.7/dist-packages (from requests>=2.10.0->newspaper3k) (3.0.4)\n",
            "Requirement already satisfied: idna<3,>=2.5 in /usr/local/lib/python3.7/dist-packages (from requests>=2.10.0->newspaper3k) (2.10)\n",
            "Requirement already satisfied: filelock>=3.0.8 in /usr/local/lib/python3.7/dist-packages (from tldextract>=2.0.1->newspaper3k) (3.4.2)\n",
            "Collecting requests-file>=1.4\n",
            "  Downloading requests_file-1.5.1-py2.py3-none-any.whl (3.7 kB)\n",
            "Building wheels for collected packages: tinysegmenter, feedfinder2, jieba3k, sgmllib3k\n",
            "  Building wheel for tinysegmenter (setup.py) ... \u001b[?25l\u001b[?25hdone\n",
            "  Created wheel for tinysegmenter: filename=tinysegmenter-0.3-py3-none-any.whl size=13553 sha256=c479ff0f7e316f8fba3d56660c33b2a0f6c514e5322d4186781729ab9456f3af\n",
            "  Stored in directory: /root/.cache/pip/wheels/df/67/41/faca10fa501ca010be41b49d40360c2959e1c4f09bcbfa37fa\n",
            "  Building wheel for feedfinder2 (setup.py) ... \u001b[?25l\u001b[?25hdone\n",
            "  Created wheel for feedfinder2: filename=feedfinder2-0.0.4-py3-none-any.whl size=3357 sha256=e7d32972b9d1cb56dad5570a9796ec06ea7451618b213ae5a63cc698c4021400\n",
            "  Stored in directory: /root/.cache/pip/wheels/7f/d4/8f/6e2ca54744c9d7292d88ddb8d42876bcdab5e6d84a21c10346\n",
            "  Building wheel for jieba3k (setup.py) ... \u001b[?25l\u001b[?25hdone\n",
            "  Created wheel for jieba3k: filename=jieba3k-0.35.1-py3-none-any.whl size=7398404 sha256=05d1c5644b5a32d5e3c538491f8b501ee8d2314fb73c642f601fc72d0dfb1fd0\n",
            "  Stored in directory: /root/.cache/pip/wheels/4c/91/46/3c208287b726df325a5979574324878b679116e4baae1af3c3\n",
            "  Building wheel for sgmllib3k (setup.py) ... \u001b[?25l\u001b[?25hdone\n",
            "  Created wheel for sgmllib3k: filename=sgmllib3k-1.0.0-py3-none-any.whl size=6066 sha256=119ed38bd3f91a95f746d07bb17cd2e0686805ce35c32b220c78899a06f7205a\n",
            "  Stored in directory: /root/.cache/pip/wheels/73/ad/a4/0dff4a6ef231fc0dfa12ffbac2a36cebfdddfe059f50e019aa\n",
            "Successfully built tinysegmenter feedfinder2 jieba3k sgmllib3k\n",
            "Installing collected packages: sgmllib3k, requests-file, tldextract, tinysegmenter, jieba3k, feedparser, feedfinder2, cssselect, newspaper3k\n",
            "Successfully installed cssselect-1.1.0 feedfinder2-0.0.4 feedparser-6.0.8 jieba3k-0.35.1 newspaper3k-0.2.8 requests-file-1.5.1 sgmllib3k-1.0.0 tinysegmenter-0.3 tldextract-3.1.2\n"
          ]
        }
      ]
    },
    {
      "cell_type": "code",
      "execution_count": 3,
      "metadata": {
        "id": "_LRgU7HWyXdj"
      },
      "outputs": [],
      "source": [
        "from newspaper import Article\n",
        "import nltk"
      ]
    },
    {
      "cell_type": "code",
      "source": [
        ""
      ],
      "metadata": {
        "id": "TrvnsT5vyztH"
      },
      "execution_count": null,
      "outputs": []
    },
    {
      "cell_type": "code",
      "source": [
        "url= 'https://www.thehindu.com/news/national/prime-minister-narendra-modi-addresses-rajya-sabha-on-february-8-2022/article38396237.ece'"
      ],
      "metadata": {
        "id": "U6voE4t6yZxZ"
      },
      "execution_count": 11,
      "outputs": []
    },
    {
      "cell_type": "code",
      "source": [
        "article = Article(url, language=\"en\") # en for English "
      ],
      "metadata": {
        "id": "tPF2D67sy3eL"
      },
      "execution_count": 12,
      "outputs": []
    },
    {
      "cell_type": "code",
      "source": [
        "import nltk\n",
        "nltk.download('punkt')"
      ],
      "metadata": {
        "colab": {
          "base_uri": "https://localhost:8080/"
        },
        "id": "zxWHeFpezGlY",
        "outputId": "86196f1f-6c3c-44c1-ffbf-f6592882626c"
      },
      "execution_count": 13,
      "outputs": [
        {
          "output_type": "stream",
          "name": "stdout",
          "text": [
            "[nltk_data] Downloading package punkt to /root/nltk_data...\n",
            "[nltk_data]   Package punkt is already up-to-date!\n"
          ]
        },
        {
          "output_type": "execute_result",
          "data": {
            "text/plain": [
              "True"
            ]
          },
          "metadata": {},
          "execution_count": 13
        }
      ]
    },
    {
      "cell_type": "code",
      "source": [
        "article.download() \n",
        "article.parse() \n",
        "article.nlp() "
      ],
      "metadata": {
        "id": "Uj9EySeky63U"
      },
      "execution_count": 14,
      "outputs": []
    },
    {
      "cell_type": "code",
      "source": [
        "print(\"Article Title:\") \n",
        "print(article.title) #prints the title of the article\n",
        "print(\"\\n\") \n",
        "print(\"Article Text:\") \n",
        "print(article.text) #prints the entire text of the article\n",
        "print(\"\\n\") \n",
        "print(\"Article Summary:\") \n",
        "print(article.summary) #prints the summary of the article\n",
        "print(\"\\n\") \n",
        "print(\"Article Keywords:\")\n",
        "print(article.keywords) #prints the keywords of the article"
      ],
      "metadata": {
        "colab": {
          "base_uri": "https://localhost:8080/"
        },
        "id": "wV2V6TSyzLUC",
        "outputId": "df48c621-68bb-434c-f3bc-5128911a27ff"
      },
      "execution_count": 15,
      "outputs": [
        {
          "output_type": "stream",
          "name": "stdout",
          "text": [
            "Article Title:\n",
            "Congress is in the grip of ‘urban naxals’, says PM Modi\n",
            "\n",
            "\n",
            "Article Text:\n",
            "Prime Minister slams Opposition party in the Rajya Sabha.\n",
            "\n",
            "A day after referring to the Congress as the leader of the tukde tukde (break-up) gang in the Lok Sabha, Prime Minister Narendra Modi on Tuesday continued his attack against the Opposition party by recalling its history of dismissing State governments in the past, intolerance towards any criticism against its leadership and accused it of being in the grip of “urban naxals”.\n",
            "\n",
            "“It is being said that we are trying to change history. The Congress thinking seems to have been hijacked by urban naxals. We just want to improve the memory of some people. We are not changing history. Some people’s history is limited to one family,” he said in the Rajya Sabha, replying to the debate on the Motion of Thanks to the President for his Address to Parliament.\n",
            "\n",
            "Mr. Modi answered the Leader of the Opposition in the Rajya Sabha Mallikarjun Kharge, who earlier asked what would have been the fate of the nation if Congress was not there during Independence. “I will tell you what would have happened if Congress wasn’t there — democracy would have been devoid of dynastic influence, we would be rid of foreign influence, there would be no Emergency, no caste and regional divide, no Sikh genocide would have taken place, Kashmir Pandits wouldn’t have been displaced, daughters would n’t have been killed in tandoor [oven] and common man would not have had to wait for years to get basic amenities” he said.\n",
            "\n",
            "The Prime Minister’s repeated attack on the Congress during his 96-minute speech forced the party members to walk out in protest after an hour or so.\n",
            "\n",
            "Without naming former Congress chief Rahul Gandhi, Mr. Modi targeted his Lok Sabha speech in which Mr. Gandhi referred to India as a union of States. “Congress has a problem with ‘nation’ also. If [the word] nation is unconstitutional, then why is your party’s name Indian National Congress. Change it to Federation of Congress. Correct the mistakes done by your predecessors,” he noted.\n",
            "\n",
            "3 ways of functioning\n",
            "\n",
            "Continuing his attack, Mr Modi said the Congress’s top leadership knew three ways of functioning - discredit, destabilise and dismiss - and cited examples of State governments were “dismissed” in the past.\n",
            "\n",
            "“Tall statements were given on federalism, have we forgotten how Chief Ministers were removed on flimsy grounds, a PM’s son did not like the arrangements at the airport so the then Andhra Chief Minister was removed, Karnataka’s Virendra Patil was removed while he was unwell,” he said.\n",
            "\n",
            "The Prime Minister cited the goods and services tax (GST) Council and his 23 meetings with the Chief Minister during the pandemic as examples of cooperative federalism adopted by his government.\n",
            "\n",
            "Mr Modi also questioned the liberal credentials of the Congress by recalling the instances of Lata Mangeshkar’s brother Hridaynath Mangeshkar being sacked from All India Radio for presenting a poetry on Veer Savarkar and lyricist Majrooh Sultanpuri being jailed for criticising former Prime Minister Jawaharlal Nehru.\n",
            "\n",
            "‘Democracy was throttled’\n",
            "\n",
            "“This was your freedom of expression,” he said, adding that the Congress leadership had throttled democracy by imposing Emergency in 1975.\n",
            "\n",
            "The poll-bound Goa also featured in the speech. Mr. Modi blamed Nehru’s inaction for the 15- year delay in the coastal State getting independence from the rest of India.\n",
            "\n",
            "\n",
            "Article Summary:\n",
            "The Congress thinking seems to have been hijacked by urban naxals.\n",
            "Mr. Modi answered the Leader of the Opposition in the Rajya Sabha Mallikarjun Kharge, who earlier asked what would have been the fate of the nation if Congress was not there during Independence.\n",
            "Without naming former Congress chief Rahul Gandhi, Mr. Modi targeted his Lok Sabha speech in which Mr. Gandhi referred to India as a union of States.\n",
            "The Prime Minister cited the goods and services tax (GST) Council and his 23 meetings with the Chief Minister during the pandemic as examples of cooperative federalism adopted by his government.\n",
            "Mr. Modi blamed Nehru’s inaction for the 15- year delay in the coastal State getting independence from the rest of India.\n",
            "\n",
            "\n",
            "Article Keywords:\n",
            "['naxals', 'state', 'urban', 'prime', 'modi', 'sabha', 'mr', 'grip', 'history', 'chief', 'speech', 'minister', 'congress']\n"
          ]
        }
      ]
    },
    {
      "cell_type": "code",
      "source": [
        "file1=open(\"NewsFile1.txt\", \"w+\")\n",
        "file1.write(\"Title:\\n\")\n",
        "file1.write(article.title)\n",
        "file1.write(\"\\n\\nArticle Text:\\n\")\n",
        "file1.write(article.text)\n",
        "file1.write(\"\\n\\nArticle Summary:\\n\")\n",
        "file1.write(article.summary)\n",
        "file1.write(\"\\n\\n\\nArticle Keywords:\\n\")\n",
        "keywords='\\n'.join(article.keywords)\n",
        "file1.write(keywords)\n",
        "file1.close()"
      ],
      "metadata": {
        "id": "JFyoQTcczTDg"
      },
      "execution_count": 16,
      "outputs": []
    },
    {
      "cell_type": "code",
      "source": [
        ""
      ],
      "metadata": {
        "id": "9qwzy_Vwzbhs"
      },
      "execution_count": null,
      "outputs": []
    }
  ]
}